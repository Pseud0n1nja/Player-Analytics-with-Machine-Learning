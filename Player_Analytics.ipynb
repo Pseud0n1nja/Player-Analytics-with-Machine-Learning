{
 "cells": [
  {
   "cell_type": "markdown",
   "metadata": {},
   "source": [
    "# Player Analytics Methodologies at Micro-Level"
   ]
  },
  {
   "cell_type": "markdown",
   "metadata": {},
   "source": [
    "## Motivation"
   ]
  },
  {
   "cell_type": "markdown",
   "metadata": {},
   "source": [
    "• Most existing sports analytics done in the field of cricket is based on match-to-match data. \n",
    "\n",
    "• Our novel attempt is at devising a model that would predict various attributes of a player’s game based on data from each ball (play-by-play) across multiple games. \n",
    "\n",
    "• This would enable us to uncover hidden insights about the strength/weakness of a player and help define his play style.\n"
   ]
  },
  {
   "cell_type": "markdown",
   "metadata": {},
   "source": [
    "## Data Preprocessing"
   ]
  },
  {
   "cell_type": "markdown",
   "metadata": {},
   "source": [
    "• We leveraged data from a cricbuzz.com service to fetch running commentary for all One Day Internationals played by each player in about 50 One-Day International matches from the year 2016 onwards.\n",
    "\n",
    "• We extracted different attributes about each ball such as ‘Delivery Line’, ’Delivery Length’, ’Speed of Ball’, ‘Type of Shot’ etc. from the running commentary, eyeballed the data  to complete otherwise missing records and successfully managed to obtain more than 2000 records for each player.\n",
    "\n",
    "• Data was extracted for two of the leading run-scorers in Rohit Sharma (India) and David Warner (Australia)."
   ]
  },
  {
   "cell_type": "code",
   "execution_count": 92,
   "metadata": {
    "collapsed": true
   },
   "outputs": [],
   "source": [
    "# Import required libraries\n",
    "\n",
    "import requests\n",
    "import pandas as pd\n",
    "from pathlib import Path\n",
    "\n",
    "# Defining column names\n",
    "COLUMN_NAMES=['Commentary','Runs','Delivery_Length','Delivery_Line','Shot_Type','Run/NoRun','Bowler_Type','Bowler_Name',\n",
    "              'Avg_Ball_Speed','MatchID','Dismissal_Type','Beaten/NotBeaten','Home_Away','Good_Bad_Shot',\n",
    "              'Opponent','Stadium','Shot_Zone','Delivery_Number','Toss','TossDecision','D/N']\n",
    "\n",
    "# Converting to Pandas DataFrame\n",
    "dfmain=pd.DataFrame(columns=COLUMN_NAMES)"
   ]
  },
  {
   "cell_type": "code",
   "execution_count": 29,
   "metadata": {},
   "outputs": [
    {
     "name": "stdout",
     "output_type": "stream",
     "text": [
      "Enter player name: Rohit\n",
      "File found\n"
     ]
    }
   ],
   "source": [
    "#Ask the user to input player name\n",
    "playername=input(\"Enter player name: \")\n",
    "\n",
    "# Read Excel file if dataset found for the player else print 'File not found'\n",
    "if Path('/Users/ankit/Google Drive/Study/Projects/DSP Assignments/Projects/Cricket Project/CSV/'+playername+'.xlsx').exists():\n",
    "    print('File found')\n",
    "    df1= pd.read_excel('/Users/ankit/Google Drive/Study/Projects/DSP Assignments/Projects/Cricket Project/CSV/'+playername+'.xlsx')\n",
    "    #print(df1)\n",
    "    dfmain=df1.copy()\n",
    "else:\n",
    "    df1=None\n",
    "    print('File not found')"
   ]
  },
  {
   "cell_type": "code",
   "execution_count": 30,
   "metadata": {},
   "outputs": [
    {
     "name": "stdout",
     "output_type": "stream",
     "text": [
      "Enter the player country: South Africa\n",
      "Enter the match ids: 19160\n",
      "1\n",
      "9\n",
      "1\n",
      "6\n",
      "0\n"
     ]
    }
   ],
   "source": [
    "# asks user input for player country and MatchID\n",
    "player_country=input(\"Enter the player country: \")\n",
    "matchidstr=input(\"Enter the match ids: \")\n",
    "if ',' in matchidstr:\n",
    "    matchids=matchidstr.split(',')\n",
    "else:\n",
    "    matchids=matchidstr\n",
    "for matchid in matchids:    \n",
    "    print(matchid)\n",
    "    df= pd.DataFrame(columns=COLUMN_NAMES)\n"
   ]
  },
  {
   "cell_type": "code",
   "execution_count": 31,
   "metadata": {},
   "outputs": [],
   "source": [
    "#json response\n",
    "jobj = requests.get('http://push.cricbuzz.com/match-api/'+matchid+'/commentary-full.json').json()"
   ]
  },
  {
   "cell_type": "code",
   "execution_count": null,
   "metadata": {
    "collapsed": true
   },
   "outputs": [],
   "source": [
    "#gets match id from json response\n",
    "matchid=jobj['id']\n",
    "#gets stadium name\n",
    "stadium=jobj['venue']['name']\n",
    "#gets country name\n",
    "country= jobj['venue']['country']\n",
    "#gets opponent name\n",
    "if player_country.upper() not in jobj['team1']['name'].upper():\n",
    "    opponent=jobj['team1']['name']\n",
    "else:\n",
    "    opponent=jobj['team2']['name'].upper()\n",
    "#if toss is won by player's team value is 1 or else 0    \n",
    "if player_country.upper() in jobj['toss']['winner'].upper():\n",
    "    toss=1\n",
    "else:\n",
    "    toss=0\n",
    "#if toss is won by player's team what desicion is taken\n",
    "decision= jobj['toss']['decision']\n",
    "    \n",
    "if jobj['dn'] is False:\n",
    "    day_night= 'D'\n",
    "else:\n",
    "    day_night= 'DN'"
   ]
  },
  {
   "cell_type": "code",
   "execution_count": null,
   "metadata": {
    "collapsed": true
   },
   "outputs": [],
   "source": [
    "#gets full commentary of the match    \n",
    "    all_comments = jobj['comm_lines'] "
   ]
  },
  {
   "cell_type": "markdown",
   "metadata": {},
   "source": [
    "** Create lists for defining delivery length, line, beaten or not, shot type, fielding zones, bowler type and number of runs and summarize these using a dictionary**"
   ]
  },
  {
   "cell_type": "code",
   "execution_count": null,
   "metadata": {
    "collapsed": true
   },
   "outputs": [],
   "source": [
    "#delivery length\n",
    "    full_toss = ['full toss']\n",
    "    full=['full','fullish','fuller','pitched up','overpitch','bat down','up on the stumps',\n",
    "          'up to the stumps','dab','dig','dug out','block','negates ','dead bat','dead-bat','sweep','defend','yorker','tossed up',\n",
    "          'tosses it up','darted on']\n",
    "    good_length=['length','good length','straight','on to the pads','pad','punch','drive','square cut','flick',\n",
    "                 'backward point','flatter']\n",
    "    short=['short','bouncer','back of a length','shortish','shoulders arms','shouldering arms','pull','hook',\n",
    "           'let it pass','let it go','lets it go','left alone','seeing it through']\n",
    "    del_length_dic= {'FullToss':full_toss,'Short':short,'Full':full,'GoodLength':good_length}\n",
    "    \n",
    "#delivery line\n",
    "    wicket_to_wicket = ['on off','stumps','middle','leg','pad','into the body','dab','dug out','block',\n",
    "                        'dig','glance','flick','angled into','full and straight','punched back','on the off stump',\n",
    "                        'top of off','base of off','within the sticks']\n",
    "    outside_stumps = ['wide of off','cover','outside off', 'around off','past the defence',\n",
    "                      'widish','shouldering arms','shoulders arms','let it pass','let it go','lets it go','cover','square cut',\n",
    "                      'left alone','seeing it through','miss','shape away','backward point','square','cramped for room','wide one'\n",
    "                      ,'sees width','close to off','lets it pass','fourth stump','close to off','short and wide','some width','wider of off']\n",
    "    del_line_dic= {'wicket_to_wicket':wicket_to_wicket,'outside_stumps':outside_stumps}\n",
    "\n",
    "#beaten or not beaten\n",
    "    not_beaten = ['defend','block','clips it','knocks it','tap','drives it','tuck','dug out','flick','negates ','dead bat','dead-bat','hit back',\n",
    "                  'push','punch','played back','negotiate','dig','cut','dab','defen','fence','negates the ball','glance','flick','square on the leg-side',\n",
    "                  'square drive','pull','hook','mid-wicket','sweep','drive','mid-on','mid-off','to cover','towards the cover','swept',\n",
    "                  'edge','square cut','backward point']\n",
    "    beaten = ['beaten','past the outside edge','let it pass','let it go','shouldering arms','lets it go','edge','carry through','ball whizzes past',\n",
    "              'splice off the bat','left alone','seeing it through','shoulders arms','miss','corridor of uncertainty','play and a miss']\n",
    "    beaten_dic= {'beaten':beaten,'not_beaten':not_beaten}\n",
    "\n",
    "#shot type\n",
    "    defensive_shot = ['defensive shot','dab','defen','dug out','block','negates the ball','pushed back','punched back','played back','dig']\n",
    "    glance=['glance']\n",
    "    flick=['flick','square on the leg-side']\n",
    "    late_cut=['down to third man','third man']\n",
    "    pull_hook=['pull','hook','mid-wicket']\n",
    "    sweep=['swept','slog','sweep']\n",
    "    drive=['drive','mid-on','mid-off','to cover','towards the cover','square drive']\n",
    "    edge=['edge','splice off the bat']\n",
    "    cut=['square cut','backward point']\n",
    "    no_shot=['beat','past the outside edge','let it pass','let it go','shouldering arms','lets it go','carry through',\n",
    "             'ball whizzes past','left alone','seeing it through','shoulders arms','miss','ignore','lets it pass',\n",
    "             'leave comfortably','jammed out',\"can't make any contact\"]\n",
    "    shot_type_dic= {'Glance':glance,'Flick':flick,'Late_Cut':late_cut,\n",
    "                'Pull_hook':pull_hook,'Sweep':sweep,'Edge':edge,'Cut':cut,'Drive':drive,\n",
    "                'Defensive_shot':defensive_shot,'No_shot':no_shot}\n",
    "    \n",
    "    #Zones\n",
    "    fine_leg = ['fine leg', 'long leg','fine-leg', 'long-leg']\n",
    "    square_leg=['square leg', 'leg gully', 'short leg','square-leg', 'leg-gully', 'short-leg']\n",
    "    midwicket=['silly mid on','mid wicket','mid-wicket','cow cover']\n",
    "    long_on=['mid on', 'long on','mid-on', 'long-on']\n",
    "    long_off=['mid off','long off','mid-off','long-off']\n",
    "    cover=['extra cover','cover','silly mid off','extra-cover']\n",
    "    point=['silly point','point', 'gully','silly-point']\n",
    "    third_man=['third man', 'slip','third-man']\n",
    "    shot_zone_dic= {'FineLeg':fine_leg,'SquareLeg':square_leg,'Midwicket':midwicket,'LongOn':long_on,'LongOff':long_off,\n",
    "                     'Cover':cover,'Point':point,'ThirdMan':third_man}\n",
    "\n",
    "#bowler type\n",
    "#fetch list of bowlers\n",
    "    bowlers_dic={}\n",
    "    bowlers=jobj['players']\n",
    "    for bowler in bowlers:\n",
    "        if 'bowl_style' in bowler:\n",
    "            bowlers_dic[bowler['name']]=bowler['bowl_style'].lower()\n",
    "            #bowlers_dic\n",
    "        \n",
    "#runs list\n",
    "    lstrun=[1,2,3,4,5,6]"
   ]
  },
  {
   "cell_type": "markdown",
   "metadata": {},
   "source": [
    "** To classify these attributes based on the commentary using conditionals and loops **"
   ]
  },
  {
   "cell_type": "code",
   "execution_count": null,
   "metadata": {
    "collapsed": true
   },
   "outputs": [],
   "source": [
    "#to get delivery number\n",
    "    del_count=0    \n",
    "    for comment in all_comments[:]:\n",
    "        if 'comm' in comment:\n",
    "            if 'to '+playername in str(comment['comm']):\n",
    "                del_count=del_count+1\n",
    "    delivery_number=del_count\n",
    "    i=0\n",
    "    for comment in all_comments[:]:\n",
    "        if 'comm' in comment:\n",
    "            if 'to '+playername in str(comment['comm']):\n",
    "                #to fetch bowler name\n",
    "                if 'to' in str(comment['comm']):\n",
    "                    bowler_name=str(comment['comm']).split(' to')[0].strip()\n",
    "                else:\n",
    "                    bowler_name=None\n",
    "                        \n",
    "                # to fetch bowler type\n",
    "                if bowler_name in bowlers_dic.keys():\n",
    "                    bowler_type=bowlers_dic[bowler_name]\n",
    "                else:\n",
    "                    bowler_type=None\n",
    "                \n",
    "                #to fetch runs\n",
    "                if '<b>four</b>' in str(comment['comm']).lower():\n",
    "                    runs=4\n",
    "                elif '<b>six</b>' in str(comment['comm']).lower():\n",
    "                    runs=6\n",
    "                elif '<b>single</b>' in str(comment['comm']).lower():\n",
    "                    runs=1\n",
    "                elif ('<b>wide</b>' in str(comment['comm']).lower()) or '<b>wides</b>' in str(comment['comm']).lower():\n",
    "                    runs='wide'\n",
    "                elif '<b>no ball</b>' in str(comment['comm']).lower():\n",
    "                    runs='noball'\n",
    "                elif 'run' in str(comment['comm']):\n",
    "                    wrd=str(comment['comm']).split('run')[0]\n",
    "                    if ',' in wrd:\n",
    "                        runstr=wrd.split(',')[1].strip()\n",
    "                        if runstr =='1':\n",
    "                            runs=1\n",
    "                        elif runstr =='2':\n",
    "                            runs=2\n",
    "                        elif runstr =='3':\n",
    "                            runs=3\n",
    "                        elif runstr =='no':\n",
    "                            runs=0\n",
    "                        else:\n",
    "                            runs=None\n",
    "                    else:\n",
    "                        runs=None\n",
    "                else:\n",
    "                    runs=None\n",
    "                #run or no run\n",
    "                if runs ==0:\n",
    "                    run_norun='norun'\n",
    "                elif runs in lstrun:\n",
    "                    run_norun='run'\n",
    "                else:\n",
    "                    run_norun='norun'\n",
    "            \n",
    "                #to fectch bowl speed\n",
    "                if (',' in str(comment['comm'])) and (str(comment['comm']).count(',')>1) :\n",
    "                    bs=str(comment['comm']).split(',')[2]\n",
    "                    if 'kph' in bs.lower():\n",
    "                        bowl_speed_str=bs.split('kph')[0]\n",
    "                        bowl_speed=bowl_speed_str.split(' ')[-1].strip()\n",
    "                    else:\n",
    "                        bowl_speed=None\n",
    "                else:\n",
    "                    bowl_speed=None\n",
    "                \n",
    "                #Dismissal Type\n",
    "                if \"that's out!!\" in str(comment['comm']).lower():\n",
    "                    if '</b>' in str(comment['comm']):\n",
    "                        dismissal_type=str(comment['comm']).split('</b>')[1]\n",
    "                    else:\n",
    "                        dismissal_type=None\n",
    "                else:\n",
    "                    dismissal_type=None\n",
    "            \n",
    "                #delivery length type\n",
    "                delivery_length='Unknown'\n",
    "                for k,v in del_length_dic.items():\n",
    "                    for j in v:\n",
    "                        if j in str(comment['comm']).lower():\n",
    "                            delivery_length=k\n",
    "                            break\n",
    "                    if delivery_length != 'Unknown':\n",
    "                        break\n",
    "                #delivery line type  \n",
    "                delivery_line='Unknown'\n",
    "                for a,b in del_line_dic.items():\n",
    "                    for q in b:\n",
    "                        if q in str(comment['comm']).lower():\n",
    "                            delivery_line=a\n",
    "                            break\n",
    "                    if delivery_line != 'Unknown':\n",
    "                        break\n",
    "                \n",
    "                #shot type  \n",
    "                shot_type= 'Unknown'\n",
    "                for h,l in shot_type_dic.items():\n",
    "                    if h=='Defensive_shot':\n",
    "                        if ((runs==0) and (('push' in str(comment['comm']).lower()) or ('tap' in str(comment['comm']).lower()))):\n",
    "                            shot_type=h\n",
    "                            break\n",
    "                        else:\n",
    "                            for q in l:\n",
    "                                if q in str(comment['comm']).lower():\n",
    "                                    shot_type=h\n",
    "                                    break\n",
    "                    else:\n",
    "                        for q in l:\n",
    "                            if q in str(comment['comm']).lower():\n",
    "                                shot_type=h\n",
    "                                break\n",
    "                        if shot_type != 'Unknown':\n",
    "                            break\n",
    "                    \n",
    "                #shot type  \n",
    "                beaten_notbeaten='Unknown'\n",
    "                if (runs is not None) and (runs in ['1','2','3','4','5','6']):\n",
    "                    beaten_notbeaten='not_beaten'\n",
    "                else:\n",
    "                    for u,o in beaten_dic.items():\n",
    "                        for q in o:\n",
    "                            if q in str(comment['comm']).lower():\n",
    "                                beaten_notbeaten=u\n",
    "                                break\n",
    "                        if beaten_notbeaten != 'Unknown':\n",
    "                            break"
   ]
  },
  {
   "cell_type": "markdown",
   "metadata": {},
   "source": [
    "** To classify venue, shot, delivery length, extra runs, delivery number **"
   ]
  },
  {
   "cell_type": "code",
   "execution_count": null,
   "metadata": {
    "collapsed": true
   },
   "outputs": [],
   "source": [
    " #home or away\n",
    "                if country.upper().strip() == player_country.upper():\n",
    "                    home_away='home'\n",
    "                else:\n",
    "                    home_away='away'\n",
    "                #clasify shot as good(if runs scores is >=2) or bad (if runs scores is <2)  \n",
    "                if ((runs is not None) and (runs not in ['wide','noball']) and (runs >=1) \n",
    "                and (shot_type.lower().strip() in ['glance','flick','late_cut','pull_hook','sweep','cut','drive']) and (dismissal_type is None) ):\n",
    "                    good_bad_shot='good'\n",
    "                else:\n",
    "                    good_bad_shot='bad'\n",
    "                \n",
    "                #delivery length type\n",
    "                shot_zone='Unknown'\n",
    "                for g,t in shot_zone_dic.items():\n",
    "                    for j in t:\n",
    "                        if j in str(comment['comm']).lower():\n",
    "                            shot_zone=g\n",
    "                            break\n",
    "                    if shot_zone !='Unknown':\n",
    "                        break\n",
    "                    \n",
    "                \n",
    "                if runs not in ['wide','noball']:\n",
    "                    #delivery number\n",
    "                    delivery_number=delivery_number-1\n",
    "                    df.loc[i]=[comment['comm'],runs,delivery_length,delivery_line,shot_type,run_norun,bowler_type,\n",
    "                           bowler_name,bowl_speed,matchid,dismissal_type,beaten_notbeaten,home_away,good_bad_shot,opponent,\n",
    "                           stadium,shot_zone,delivery_number,toss,decision,day_night]\n",
    "                    i=int(i)+1"
   ]
  },
  {
   "cell_type": "markdown",
   "metadata": {},
   "source": [
    "** Append to the DataFrame and write to an Excel file **"
   ]
  },
  {
   "cell_type": "code",
   "execution_count": null,
   "metadata": {
    "collapsed": true
   },
   "outputs": [],
   "source": [
    "#Appending new data to main dataframe, hence getting data from different matches\n",
    "dfmain=dfmain.append(df)\n",
    "\n",
    "#write to a excel file at the specified location\n",
    "writer = pd.ExcelWriter('D:/knowledge/college docs/DSP/Project_1/New/'+playername+'.xlsx')\n",
    "dfmain.to_excel(writer)\n",
    "writer.save()"
   ]
  },
  {
   "cell_type": "code",
   "execution_count": null,
   "metadata": {
    "collapsed": true
   },
   "outputs": [],
   "source": []
  },
  {
   "cell_type": "markdown",
   "metadata": {},
   "source": [
    "## Exploratory Data Analysis"
   ]
  },
  {
   "cell_type": "code",
   "execution_count": 35,
   "metadata": {
    "collapsed": true
   },
   "outputs": [],
   "source": [
    "#Importing necessary libraries\n",
    "import pandas as pd\n",
    "import numpy as np\n",
    "import matplotlib.pyplot as plt\n",
    "%matplotlib inline"
   ]
  },
  {
   "cell_type": "code",
   "execution_count": 36,
   "metadata": {
    "collapsed": true
   },
   "outputs": [],
   "source": [
    "#Reading the input excel\n",
    "df_Rohit = pd.read_excel(\"Rohit.xlsx\")"
   ]
  },
  {
   "cell_type": "code",
   "execution_count": 37,
   "metadata": {},
   "outputs": [
    {
     "data": {
      "text/html": [
       "<div>\n",
       "<style scoped>\n",
       "    .dataframe tbody tr th:only-of-type {\n",
       "        vertical-align: middle;\n",
       "    }\n",
       "\n",
       "    .dataframe tbody tr th {\n",
       "        vertical-align: top;\n",
       "    }\n",
       "\n",
       "    .dataframe thead th {\n",
       "        text-align: right;\n",
       "    }\n",
       "</style>\n",
       "<table border=\"1\" class=\"dataframe\">\n",
       "  <thead>\n",
       "    <tr style=\"text-align: right;\">\n",
       "      <th></th>\n",
       "      <th>Commentary</th>\n",
       "      <th>Runs</th>\n",
       "      <th>Delivery_Length</th>\n",
       "      <th>Delivery_Line</th>\n",
       "      <th>Shot_Type</th>\n",
       "      <th>Run/NoRun</th>\n",
       "      <th>Bowler_Type</th>\n",
       "      <th>Bowler_Name</th>\n",
       "      <th>Avg_Ball_Speed</th>\n",
       "      <th>MatchID</th>\n",
       "      <th>...</th>\n",
       "      <th>Beaten/NotBeaten</th>\n",
       "      <th>Home_Away</th>\n",
       "      <th>Good_Bad_Shot</th>\n",
       "      <th>Opponent</th>\n",
       "      <th>Stadium</th>\n",
       "      <th>Shot_Zone</th>\n",
       "      <th>Delivery_Number</th>\n",
       "      <th>Toss</th>\n",
       "      <th>TossDecision</th>\n",
       "      <th>D/N</th>\n",
       "    </tr>\n",
       "  </thead>\n",
       "  <tbody>\n",
       "    <tr>\n",
       "      <th>2</th>\n",
       "      <td>Morne Morkel to Rohit, no run, stays in the cr...</td>\n",
       "      <td>0</td>\n",
       "      <td>Short</td>\n",
       "      <td>outside_stumps</td>\n",
       "      <td>Defensive_shot</td>\n",
       "      <td>norun</td>\n",
       "      <td>right arm fast</td>\n",
       "      <td>Morne Morkel</td>\n",
       "      <td>139.2</td>\n",
       "      <td>19160</td>\n",
       "      <td>...</td>\n",
       "      <td>not_beaten</td>\n",
       "      <td>away</td>\n",
       "      <td>bad</td>\n",
       "      <td>South Africa</td>\n",
       "      <td>Kingsmead</td>\n",
       "      <td>Unknown</td>\n",
       "      <td>29</td>\n",
       "      <td>0</td>\n",
       "      <td>Batting</td>\n",
       "      <td>DN</td>\n",
       "    </tr>\n",
       "    <tr>\n",
       "      <th>3</th>\n",
       "      <td>Morne Morkel to Rohit, 2 runs, &lt;b&gt;almost dragg...</td>\n",
       "      <td>2</td>\n",
       "      <td>Short</td>\n",
       "      <td>wicket_to_wicket</td>\n",
       "      <td>Edge</td>\n",
       "      <td>run</td>\n",
       "      <td>right arm fast</td>\n",
       "      <td>Morne Morkel</td>\n",
       "      <td>139.2</td>\n",
       "      <td>19160</td>\n",
       "      <td>...</td>\n",
       "      <td>beaten</td>\n",
       "      <td>away</td>\n",
       "      <td>bad</td>\n",
       "      <td>South Africa</td>\n",
       "      <td>Kingsmead</td>\n",
       "      <td>FineLeg</td>\n",
       "      <td>28</td>\n",
       "      <td>0</td>\n",
       "      <td>Batting</td>\n",
       "      <td>DN</td>\n",
       "    </tr>\n",
       "    <tr>\n",
       "      <th>4</th>\n",
       "      <td>Rabada to Rohit, 1 run, good comeback from Rab...</td>\n",
       "      <td>1</td>\n",
       "      <td>GoodLength</td>\n",
       "      <td>outside_stumps</td>\n",
       "      <td>Late_Cut</td>\n",
       "      <td>run</td>\n",
       "      <td>right arm fast</td>\n",
       "      <td>Rabada</td>\n",
       "      <td>138.3</td>\n",
       "      <td>19160</td>\n",
       "      <td>...</td>\n",
       "      <td>beaten</td>\n",
       "      <td>away</td>\n",
       "      <td>good</td>\n",
       "      <td>South Africa</td>\n",
       "      <td>Kingsmead</td>\n",
       "      <td>Point</td>\n",
       "      <td>27</td>\n",
       "      <td>0</td>\n",
       "      <td>Batting</td>\n",
       "      <td>DN</td>\n",
       "    </tr>\n",
       "    <tr>\n",
       "      <th>5</th>\n",
       "      <td>Rabada to Rohit, no run, Rohit must be cursing...</td>\n",
       "      <td>0</td>\n",
       "      <td>Full_toss</td>\n",
       "      <td>outside_stumps</td>\n",
       "      <td>Pull_hook</td>\n",
       "      <td>norun</td>\n",
       "      <td>right arm fast</td>\n",
       "      <td>Rabada</td>\n",
       "      <td>138.3</td>\n",
       "      <td>19160</td>\n",
       "      <td>...</td>\n",
       "      <td>not_beaten</td>\n",
       "      <td>away</td>\n",
       "      <td>bad</td>\n",
       "      <td>South Africa</td>\n",
       "      <td>Kingsmead</td>\n",
       "      <td>Midwicket</td>\n",
       "      <td>26</td>\n",
       "      <td>0</td>\n",
       "      <td>Batting</td>\n",
       "      <td>DN</td>\n",
       "    </tr>\n",
       "    <tr>\n",
       "      <th>6</th>\n",
       "      <td>Rabada to Rohit, no run, pacy back of a length...</td>\n",
       "      <td>0</td>\n",
       "      <td>Short</td>\n",
       "      <td>wicket_to_wicket</td>\n",
       "      <td>Defensive_shot</td>\n",
       "      <td>norun</td>\n",
       "      <td>right arm fast</td>\n",
       "      <td>Rabada</td>\n",
       "      <td>138.3</td>\n",
       "      <td>19160</td>\n",
       "      <td>...</td>\n",
       "      <td>not_beaten</td>\n",
       "      <td>away</td>\n",
       "      <td>bad</td>\n",
       "      <td>South Africa</td>\n",
       "      <td>Kingsmead</td>\n",
       "      <td>Unknown</td>\n",
       "      <td>25</td>\n",
       "      <td>0</td>\n",
       "      <td>Batting</td>\n",
       "      <td>DN</td>\n",
       "    </tr>\n",
       "  </tbody>\n",
       "</table>\n",
       "<p>5 rows × 22 columns</p>\n",
       "</div>"
      ],
      "text/plain": [
       "                                          Commentary  Runs Delivery_Length  \\\n",
       "2  Morne Morkel to Rohit, no run, stays in the cr...     0           Short   \n",
       "3  Morne Morkel to Rohit, 2 runs, <b>almost dragg...     2           Short   \n",
       "4  Rabada to Rohit, 1 run, good comeback from Rab...     1      GoodLength   \n",
       "5  Rabada to Rohit, no run, Rohit must be cursing...     0       Full_toss   \n",
       "6  Rabada to Rohit, no run, pacy back of a length...     0           Short   \n",
       "\n",
       "      Delivery_Line       Shot_Type Run/NoRun     Bowler_Type   Bowler_Name  \\\n",
       "2    outside_stumps  Defensive_shot     norun  right arm fast  Morne Morkel   \n",
       "3  wicket_to_wicket            Edge       run  right arm fast  Morne Morkel   \n",
       "4    outside_stumps        Late_Cut       run  right arm fast        Rabada   \n",
       "5    outside_stumps       Pull_hook     norun  right arm fast        Rabada   \n",
       "6  wicket_to_wicket  Defensive_shot     norun  right arm fast        Rabada   \n",
       "\n",
       "   Avg_Ball_Speed  MatchID ...   Beaten/NotBeaten Home_Away Good_Bad_Shot  \\\n",
       "2           139.2    19160 ...         not_beaten      away           bad   \n",
       "3           139.2    19160 ...             beaten      away           bad   \n",
       "4           138.3    19160 ...             beaten      away          good   \n",
       "5           138.3    19160 ...         not_beaten      away           bad   \n",
       "6           138.3    19160 ...         not_beaten      away           bad   \n",
       "\n",
       "       Opponent    Stadium  Shot_Zone Delivery_Number Toss  TossDecision  D/N  \n",
       "2  South Africa  Kingsmead    Unknown              29    0       Batting   DN  \n",
       "3  South Africa  Kingsmead    FineLeg              28    0       Batting   DN  \n",
       "4  South Africa  Kingsmead      Point              27    0       Batting   DN  \n",
       "5  South Africa  Kingsmead  Midwicket              26    0       Batting   DN  \n",
       "6  South Africa  Kingsmead    Unknown              25    0       Batting   DN  \n",
       "\n",
       "[5 rows x 22 columns]"
      ]
     },
     "execution_count": 37,
     "metadata": {},
     "output_type": "execute_result"
    }
   ],
   "source": [
    "df_Rohit.head()"
   ]
  },
  {
   "cell_type": "code",
   "execution_count": 38,
   "metadata": {},
   "outputs": [
    {
     "name": "stdout",
     "output_type": "stream",
     "text": [
      "<class 'pandas.core.frame.DataFrame'>\n",
      "Int64Index: 2192 entries, 2 to 0\n",
      "Data columns (total 22 columns):\n",
      "Commentary          2192 non-null object\n",
      "Runs                2192 non-null int64\n",
      "Delivery_Length     2192 non-null object\n",
      "Delivery_Line       2192 non-null object\n",
      "Shot_Type           2192 non-null object\n",
      "Run/NoRun           2192 non-null object\n",
      "Bowler_Type         2192 non-null object\n",
      "Bowler_Name         2192 non-null object\n",
      "Avg_Ball_Speed      2192 non-null float64\n",
      "MatchID             2192 non-null int64\n",
      "Dismissal           2192 non-null int64\n",
      "Dismissal_Type      35 non-null object\n",
      "Beaten/NotBeaten    2192 non-null object\n",
      "Home_Away           2192 non-null object\n",
      "Good_Bad_Shot       2192 non-null object\n",
      "Opponent            2192 non-null object\n",
      "Stadium             2192 non-null object\n",
      "Shot_Zone           2192 non-null object\n",
      "Delivery_Number     2192 non-null int64\n",
      "Toss                2192 non-null int64\n",
      "TossDecision        2192 non-null object\n",
      "D/N                 2192 non-null object\n",
      "dtypes: float64(1), int64(5), object(16)\n",
      "memory usage: 393.9+ KB\n"
     ]
    }
   ],
   "source": [
    "df_Rohit.info()"
   ]
  },
  {
   "cell_type": "code",
   "execution_count": 43,
   "metadata": {},
   "outputs": [
    {
     "data": {
      "text/plain": [
       "<matplotlib.text.Text at 0x11df40278>"
      ]
     },
     "execution_count": 43,
     "metadata": {},
     "output_type": "execute_result"
    },
    {
     "data": {
      "image/png": "[encoded data removed]",
      "text/plain": [
       "<matplotlib.figure.Figure at 0x115092128>"
      ]
     },
     "metadata": {},
     "output_type": "display_data"
    }
   ],
   "source": [
    "#Average run rate per over for a given opponent\n",
    "plt.figure(figsize=(12,6))\n",
    "df1 = df_Rohit.groupby(['Opponent'])['Runs'].sum()/df_Rohit.groupby(['Opponent'])['Run/NoRun'].count()*6\n",
    "df1.plot(kind = 'bar', title = 'Average run rate per over for a every opponent', color = 'gold')\n",
    "plt.ylabel('Run rate')"
   ]
  },
  {
   "cell_type": "code",
   "execution_count": 44,
   "metadata": {},
   "outputs": [
    {
     "data": {
      "text/plain": [
       "<matplotlib.text.Text at 0x11e1460b8>"
      ]
     },
     "execution_count": 44,
     "metadata": {},
     "output_type": "execute_result"
    },
    {
     "data": {
      "image/png": "[encoded data removed]",
      "text/plain": [
       "<matplotlib.figure.Figure at 0x11e121da0>"
      ]
     },
     "metadata": {},
     "output_type": "display_data"
    }
   ],
   "source": [
    "#Average run rate per over for a given ball type\n",
    "plt.figure(figsize=(12,6))\n",
    "df2 = df_Rohit.groupby(['Bowler_Type'])['Runs'].sum()/df_Rohit.groupby(['Bowler_Type'])['Run/NoRun'].count()*6\n",
    "df2.plot(kind = 'bar', title = 'Average run rate per over for a given ball type', color = 'pink')\n",
    "plt.ylabel('Run Rate')"
   ]
  },
  {
   "cell_type": "markdown",
   "metadata": {},
   "source": [
    "## Inference: \n",
    "\n",
    "**In a crunch situation if there is a need to pick up a bowler who needs to defend runs, it can be seen from the graph that a left arm bowler would be much effective as compared to right arm.**\n"
   ]
  },
  {
   "cell_type": "code",
   "execution_count": 46,
   "metadata": {},
   "outputs": [
    {
     "data": {
      "text/plain": [
       "<matplotlib.text.Text at 0x11e6ad550>"
      ]
     },
     "execution_count": 46,
     "metadata": {},
     "output_type": "execute_result"
    },
    {
     "data": {
      "image/png": "[encoded data removed]",
      "text/plain": [
       "<matplotlib.figure.Figure at 0x11e69fba8>"
      ]
     },
     "metadata": {},
     "output_type": "display_data"
    }
   ],
   "source": [
    "#Strike rate per 100 balls\n",
    "plt.figure(figsize=(12,6))\n",
    "df3 = (df_Rohit.groupby(['Delivery_Length'])['Runs'].sum()/df_Rohit.groupby(['Delivery_Length'])['Commentary'].count())*100\n",
    "df3.plot(kind = 'bar', title = 'Average strike rate against delivery length', color = 'lightgreen')\n",
    "plt.ylabel('Strike rate')"
   ]
  },
  {
   "cell_type": "markdown",
   "metadata": {},
   "source": [
    "## Inference:\n",
    "** Full Toss ball will be penalized, plays short balls well as compared to full length**\n"
   ]
  },
  {
   "cell_type": "code",
   "execution_count": 52,
   "metadata": {},
   "outputs": [
    {
     "data": {
      "image/png": "[encoded data removed]",
      "text/plain": [
       "<matplotlib.figure.Figure at 0x11e4d54a8>"
      ]
     },
     "metadata": {},
     "output_type": "display_data"
    }
   ],
   "source": [
    "# % of runs scored in different shot zone\n",
    "(df_Rohit.groupby(['Shot_Zone'])['Runs'].sum()/df_Rohit['Runs'].sum())*100\n",
    "\n",
    "plt.figure(figsize=(8,8))\n",
    "labels = ['ThirdMan', 'Point', 'Cover', 'LongOff', 'Unknown', 'LongOn', 'Midwicket',  'SquareLeg', 'FineLeg']\n",
    "sizes = ['9.719023', '9.719023', '12.989406', '7.646246', '13.588208', '14.785813', '12.068171', '10.317826', '9.166283']\n",
    "explode = (0.4, 0.4, 0.4, 0.4,0.4, 0.4, 0.4, 0.4,0.4)\n",
    "wedges, patches, texts = plt.pie(sizes, labels=labels, shadow=True, explode=explode, autopct='%1.1f%%', startangle=90)"
   ]
  },
  {
   "cell_type": "markdown",
   "metadata": {},
   "source": [
    "# Inference:\n",
    "**Most of the runs have been scored in the Long On region, comparatively Long Off is least scored region**"
   ]
  },
  {
   "cell_type": "code",
   "execution_count": 53,
   "metadata": {},
   "outputs": [
    {
     "data": {
      "text/plain": [
       "Opponent              Good_Bad_Shot\n",
       "Australia             bad              67.178771\n",
       "                      good             32.821229\n",
       "Bangladesh            bad              55.026455\n",
       "                      good             44.973545\n",
       "New Zealand           bad              71.818182\n",
       "                      good             28.181818\n",
       "Pakistan              bad              75.609756\n",
       "                      good             24.390244\n",
       "South Africa          bad              77.678571\n",
       "                      good             22.321429\n",
       "Sri Lanka             bad              69.125214\n",
       "                      good             30.874786\n",
       "United Arab Emirates  bad              77.777778\n",
       "                      good             22.222222\n",
       "dtype: float64"
      ]
     },
     "execution_count": 53,
     "metadata": {},
     "output_type": "execute_result"
    }
   ],
   "source": [
    "#% of good shot and bad shots played for each opponent\n",
    "(df_Rohit.groupby(['Opponent','Good_Bad_Shot']).size()/df_Rohit.groupby(['Opponent'])['Good_Bad_Shot'].count())*100"
   ]
  },
  {
   "cell_type": "code",
   "execution_count": 54,
   "metadata": {},
   "outputs": [
    {
     "name": "stdout",
     "output_type": "stream",
     "text": [
      "right arm fast           11\n",
      "right arm fast medium    10\n",
      "left arm fast medium      6\n",
      "right arm medium          4\n",
      "right arm off break       2\n",
      "right arm leg break       1\n",
      "left arm orthodox         1\n",
      "Name: Bowler_Type, dtype: int64\n",
      "Short         15\n",
      "GoodLength    12\n",
      "Full           8\n",
      "Name: Delivery_Length, dtype: int64\n",
      "outside_stumps      17\n",
      "wicket_to_wicket    17\n",
      "Unknown              1\n",
      "Name: Delivery_Line, dtype: int64\n",
      "Edge              9\n",
      "Pull_hook         8\n",
      "Unknown           5\n",
      "Flick             3\n",
      "Sweep             3\n",
      "Late_Cut          2\n",
      "Drive             2\n",
      "No_shot           2\n",
      "Defensive_shot    1\n",
      "Name: Shot_Type, dtype: int64\n",
      " Caught!!           25\n",
      " Lbw!!               5\n",
      " Caught&Bowled!!     2\n",
      " Bowled!!            2\n",
      " Run Out!!           1\n",
      "Name: Dismissal_Type, dtype: int64\n"
     ]
    }
   ],
   "source": [
    "#Subsetting to get only dismissal data\n",
    "df_RohitDismissal = df_Rohit.loc[(df_Rohit.Dismissal == 1),:]\n",
    "\n",
    "df_Rohit_col = ['Bowler_Type','Delivery_Length','Delivery_Line','Shot_Type', 'Dismissal_Type']\n",
    "\n",
    "for i in df_Rohit_col:\n",
    "    print(df_RohitDismissal[i].value_counts())"
   ]
  },
  {
   "cell_type": "markdown",
   "metadata": {},
   "source": [
    "# Inference:\n",
    "**Probability of getting a wicket of Rohit increases by bowling a Short ball outside off stump close to the body or good length delivery outside the off stump since most caught dismissal are from Edge's**"
   ]
  },
  {
   "cell_type": "code",
   "execution_count": 56,
   "metadata": {},
   "outputs": [
    {
     "data": {
      "text/plain": [
       "<matplotlib.axes._subplots.AxesSubplot at 0x11f5538d0>"
      ]
     },
     "execution_count": 56,
     "metadata": {},
     "output_type": "execute_result"
    },
    {
     "data": {
      "image/png": "[encoded data removed]",
      "text/plain": [
       "<matplotlib.figure.Figure at 0x11f553b38>"
      ]
     },
     "metadata": {},
     "output_type": "display_data"
    }
   ],
   "source": [
    "plt.figure(figsize=(12,6))\n",
    "df_RohitDismissal['Delivery_Number'].hist(color = 'yellowgreen')"
   ]
  },
  {
   "cell_type": "markdown",
   "metadata": {},
   "source": [
    "# Inference:\n",
    "**From the data it can be seen that the probability of getting Rohit Sharma's wicket decreases drastically once he has played more than 30 balls**"
   ]
  },
  {
   "cell_type": "markdown",
   "metadata": {},
   "source": [
    "## Vizualization\n",
    "\n",
    "Target variables distribution"
   ]
  },
  {
   "cell_type": "code",
   "execution_count": 58,
   "metadata": {},
   "outputs": [
    {
     "data": {
      "text/plain": [
       "<matplotlib.text.Text at 0x11ea2ec18>"
      ]
     },
     "execution_count": 58,
     "metadata": {},
     "output_type": "execute_result"
    },
    {
     "data": {
      "image/png": "[encoded data removed]",
      "text/plain": [
       "<matplotlib.figure.Figure at 0x11eff8710>"
      ]
     },
     "metadata": {},
     "output_type": "display_data"
    }
   ],
   "source": [
    "#Distribution of Good Shots and Bad shots\n",
    "plt.figure(figsize=(12,6))\n",
    "y = ['Good_Bad_Shot']\n",
    "df_Rohit['Good_Bad_Shot'].value_counts().plot(kind='bar',color=['yellowgreen'])\n",
    "plt.title(\"Distribution of Good Shots and Bad shots\")\n",
    "plt.xlabel(\"Good Shots and Bad shots\")\n",
    "plt.ylabel(\"Count of balls\")\n"
   ]
  },
  {
   "cell_type": "code",
   "execution_count": 59,
   "metadata": {},
   "outputs": [
    {
     "data": {
      "text/plain": [
       "<matplotlib.text.Text at 0x11e987160>"
      ]
     },
     "execution_count": 59,
     "metadata": {},
     "output_type": "execute_result"
    },
    {
     "data": {
      "image/png": "[encoded data removed]",
      "text/plain": [
       "<matplotlib.figure.Figure at 0x11e811e48>"
      ]
     },
     "metadata": {},
     "output_type": "display_data"
    }
   ],
   "source": [
    "#Distribution of Beaten and NotBeaten balls\n",
    "plt.figure(figsize=(12,6))\n",
    "df_Rohit['Beaten/NotBeaten'].value_counts().plot(kind='bar',color=['lightcoral'])\n",
    "plt.title(\"Distribution of Beaten and NotBeaten balls\")\n",
    "plt.xlabel(\"Beaten and NotBeaten balls\")\n",
    "plt.ylabel(\"Count of balls\")"
   ]
  },
  {
   "cell_type": "code",
   "execution_count": 60,
   "metadata": {},
   "outputs": [
    {
     "data": {
      "text/plain": [
       "<matplotlib.text.Text at 0x11ea25860>"
      ]
     },
     "execution_count": 60,
     "metadata": {},
     "output_type": "execute_result"
    },
    {
     "data": {
      "image/png": "[encoded data removed]",
      "text/plain": [
       "<matplotlib.figure.Figure at 0x11f2479e8>"
      ]
     },
     "metadata": {},
     "output_type": "display_data"
    }
   ],
   "source": [
    "#Distribution of Dismissal type\n",
    "plt.figure(figsize=(12,6))\n",
    "df_Rohit['Dismissal_Type'].value_counts().plot(kind='bar',color=['lightskyblue'])\n",
    "plt.title(\"Distribution of Dismissal type\")\n",
    "plt.xlabel(\"Type of dismissal\")\n",
    "plt.ylabel(\"Count of Type of dismissal\")"
   ]
  },
  {
   "cell_type": "code",
   "execution_count": 63,
   "metadata": {},
   "outputs": [
    {
     "data": {
      "text/plain": [
       "<matplotlib.figure.Figure at 0x1204ddda0>"
      ]
     },
     "metadata": {},
     "output_type": "display_data"
    },
    {
     "data": {
      "image/png": "[encoded data removed]",
      "text/plain": [
       "<matplotlib.figure.Figure at 0x11e6d2470>"
      ]
     },
     "metadata": {},
     "output_type": "display_data"
    },
    {
     "data": {
      "image/png": "[encoded data removed]",
      "text/plain": [
       "<matplotlib.figure.Figure at 0x11fc9cb00>"
      ]
     },
     "metadata": {},
     "output_type": "display_data"
    },
    {
     "data": {
      "image/png": "[encoded data removed]",
      "text/plain": [
       "<matplotlib.figure.Figure at 0x11fe9a0b8>"
      ]
     },
     "metadata": {},
     "output_type": "display_data"
    },
    {
     "data": {
      "image/png": "[encoded data removed]",
      "text/plain": [
       "<matplotlib.figure.Figure at 0x11fb45588>"
      ]
     },
     "metadata": {},
     "output_type": "display_data"
    },
    {
     "data": {
      "text/plain": [
       "<matplotlib.figure.Figure at 0x120236c18>"
      ]
     },
     "metadata": {},
     "output_type": "display_data"
    },
    {
     "data": {
      "image/png": "[encoded data removed]",
      "text/plain": [
       "<matplotlib.figure.Figure at 0x11fadcac8>"
      ]
     },
     "metadata": {},
     "output_type": "display_data"
    },
    {
     "data": {
      "image/png": "[encoded data removed]",
      "text/plain": [
       "<matplotlib.figure.Figure at 0x11fbffb70>"
      ]
     },
     "metadata": {},
     "output_type": "display_data"
    },
    {
     "data": {
      "image/png": "[encoded data removed]",
      "text/plain": [
       "<matplotlib.figure.Figure at 0x11f88ccc0>"
      ]
     },
     "metadata": {},
     "output_type": "display_data"
    }
   ],
   "source": [
    "# Vizualization of all the independent variables against output variables.\n",
    "\n",
    "df_Rohit2 = ['Bowler_Type','Delivery_Length','Delivery_Line','Shot_Type']\n",
    "for i in df_Rohit2:\n",
    "    if(i!='Good_Bad_Shot'): \n",
    "        cross_tab = pd.crosstab(df_Rohit['Good_Bad_Shot'],df_Rohit[i])\n",
    "        cross_tab.plot(kind='bar')\n",
    "        plt.title(\"Good or bad shot vs\"+\" \"+i)\n",
    "        \n",
    "df_Rohit3 = ['Bowler_Type','Delivery_Length','Delivery_Line']\n",
    "for i in df_Rohit3:\n",
    "    if(i!='Beaten/NotBeaten'): \n",
    "        cross_tab = pd.crosstab(df_Rohit['Beaten/NotBeaten'],df_Rohit[i])\n",
    "        cross_tab.plot(kind='bar')\n",
    "        plt.title(\"Beaten/NotBeaten vs\"+\" \"+i)"
   ]
  },
  {
   "cell_type": "code",
   "execution_count": null,
   "metadata": {
    "collapsed": true
   },
   "outputs": [],
   "source": []
  },
  {
   "cell_type": "markdown",
   "metadata": {},
   "source": [
    "## Machine Learning Models"
   ]
  },
  {
   "cell_type": "code",
   "execution_count": 69,
   "metadata": {
    "collapsed": true
   },
   "outputs": [],
   "source": [
    "import seaborn as sns\n",
    "\n",
    "sns.set(style=\"white\")\n",
    "sns.set(style=\"whitegrid\", color_codes=True)"
   ]
  },
  {
   "cell_type": "markdown",
   "metadata": {},
   "source": [
    "## Handling Categorical Variables - Get Dummies\n",
    "\n",
    "Most Machine Learning models don't work well with numerical attributes. By encoding these variables to numerical values, we attempt at making our ML models run better.\n"
   ]
  },
  {
   "cell_type": "code",
   "execution_count": 70,
   "metadata": {},
   "outputs": [
    {
     "name": "stdout",
     "output_type": "stream",
     "text": [
      "<class 'pandas.core.frame.DataFrame'>\n",
      "Int64Index: 2192 entries, 2 to 0\n",
      "Data columns (total 46 columns):\n",
      "Commentary                           2192 non-null object\n",
      "Runs                                 2192 non-null int64\n",
      "Run/NoRun                            2192 non-null object\n",
      "Bowler_Name                          2192 non-null object\n",
      "Avg_Ball_Speed                       2192 non-null float64\n",
      "MatchID                              2192 non-null int64\n",
      "Dismissal                            2192 non-null int64\n",
      "Dismissal_Type                       35 non-null object\n",
      "Beaten/NotBeaten                     2192 non-null object\n",
      "Home_Away                            2192 non-null object\n",
      "Good_Bad_Shot                        2192 non-null object\n",
      "Opponent                             2192 non-null object\n",
      "Stadium                              2192 non-null object\n",
      "Shot_Zone                            2192 non-null object\n",
      "Delivery_Number                      2192 non-null int64\n",
      "Toss                                 2192 non-null int64\n",
      "TossDecision                         2192 non-null object\n",
      "D/N                                  2192 non-null object\n",
      "Bowler_Type_left arm chinaman        2192 non-null uint8\n",
      "Bowler_Type_left arm fast medium     2192 non-null uint8\n",
      "Bowler_Type_left arm medium          2192 non-null uint8\n",
      "Bowler_Type_left arm orthodox        2192 non-null uint8\n",
      "Bowler_Type_right arm fast           2192 non-null uint8\n",
      "Bowler_Type_right arm fast medium    2192 non-null uint8\n",
      "Bowler_Type_right arm leg break      2192 non-null uint8\n",
      "Bowler_Type_right arm medium         2192 non-null uint8\n",
      "Bowler_Type_right arm off break      2192 non-null uint8\n",
      "Delivery_Length_Full                 2192 non-null uint8\n",
      "Delivery_Length_Full_toss            2192 non-null uint8\n",
      "Delivery_Length_GoodLength           2192 non-null uint8\n",
      "Delivery_Length_Short                2192 non-null uint8\n",
      "Delivery_Length_Unknown              2192 non-null uint8\n",
      "Delivery_Line_Unknown                2192 non-null uint8\n",
      "Delivery_Line_outside_stumps         2192 non-null uint8\n",
      "Delivery_Line_wicket_to_wicket       2192 non-null uint8\n",
      "Shot_Type_Cut                        2192 non-null uint8\n",
      "Shot_Type_Defensive_shot             2192 non-null uint8\n",
      "Shot_Type_Drive                      2192 non-null uint8\n",
      "Shot_Type_Edge                       2192 non-null uint8\n",
      "Shot_Type_Flick                      2192 non-null uint8\n",
      "Shot_Type_Glance                     2192 non-null uint8\n",
      "Shot_Type_Late_Cut                   2192 non-null uint8\n",
      "Shot_Type_No_shot                    2192 non-null uint8\n",
      "Shot_Type_Pull_hook                  2192 non-null uint8\n",
      "Shot_Type_Sweep                      2192 non-null uint8\n",
      "Shot_Type_Unknown                    2192 non-null uint8\n",
      "dtypes: float64(1), int64(5), object(12), uint8(28)\n",
      "memory usage: 385.3+ KB\n"
     ]
    }
   ],
   "source": [
    "categorical_columns = ['Bowler_Type','Delivery_Length','Delivery_Line','Shot_Type',]\n",
    "tempdf = pd.get_dummies(df_Rohit, columns=categorical_columns)\n",
    "tempdf.info()"
   ]
  },
  {
   "cell_type": "code",
   "execution_count": 71,
   "metadata": {},
   "outputs": [
    {
     "data": {
      "text/html": [
       "<div>\n",
       "<style scoped>\n",
       "    .dataframe tbody tr th:only-of-type {\n",
       "        vertical-align: middle;\n",
       "    }\n",
       "\n",
       "    .dataframe tbody tr th {\n",
       "        vertical-align: top;\n",
       "    }\n",
       "\n",
       "    .dataframe thead th {\n",
       "        text-align: right;\n",
       "    }\n",
       "</style>\n",
       "<table border=\"1\" class=\"dataframe\">\n",
       "  <thead>\n",
       "    <tr style=\"text-align: right;\">\n",
       "      <th></th>\n",
       "      <th>Delivery_Length_Full</th>\n",
       "      <th>Delivery_Length_Full_toss</th>\n",
       "      <th>Delivery_Length_GoodLength</th>\n",
       "      <th>Delivery_Length_Short</th>\n",
       "      <th>Delivery_Length_Unknown</th>\n",
       "      <th>Delivery_Line_outside_stumps</th>\n",
       "      <th>Delivery_Line_Unknown</th>\n",
       "      <th>Delivery_Line_wicket_to_wicket</th>\n",
       "      <th>Shot_Type_Cut</th>\n",
       "      <th>Shot_Type_Defensive_shot</th>\n",
       "      <th>...</th>\n",
       "      <th>Shot_Type_Unknown</th>\n",
       "      <th>Bowler_Type_left arm chinaman</th>\n",
       "      <th>Bowler_Type_left arm fast medium</th>\n",
       "      <th>Bowler_Type_left arm medium</th>\n",
       "      <th>Bowler_Type_left arm orthodox</th>\n",
       "      <th>Bowler_Type_right arm fast</th>\n",
       "      <th>Bowler_Type_right arm fast medium</th>\n",
       "      <th>Bowler_Type_right arm leg break</th>\n",
       "      <th>Bowler_Type_right arm medium</th>\n",
       "      <th>Bowler_Type_right arm off break</th>\n",
       "    </tr>\n",
       "  </thead>\n",
       "  <tbody>\n",
       "    <tr>\n",
       "      <th>2</th>\n",
       "      <td>0</td>\n",
       "      <td>0</td>\n",
       "      <td>0</td>\n",
       "      <td>1</td>\n",
       "      <td>0</td>\n",
       "      <td>1</td>\n",
       "      <td>0</td>\n",
       "      <td>0</td>\n",
       "      <td>0</td>\n",
       "      <td>1</td>\n",
       "      <td>...</td>\n",
       "      <td>0</td>\n",
       "      <td>0</td>\n",
       "      <td>0</td>\n",
       "      <td>0</td>\n",
       "      <td>0</td>\n",
       "      <td>1</td>\n",
       "      <td>0</td>\n",
       "      <td>0</td>\n",
       "      <td>0</td>\n",
       "      <td>0</td>\n",
       "    </tr>\n",
       "    <tr>\n",
       "      <th>3</th>\n",
       "      <td>0</td>\n",
       "      <td>0</td>\n",
       "      <td>0</td>\n",
       "      <td>1</td>\n",
       "      <td>0</td>\n",
       "      <td>0</td>\n",
       "      <td>0</td>\n",
       "      <td>1</td>\n",
       "      <td>0</td>\n",
       "      <td>0</td>\n",
       "      <td>...</td>\n",
       "      <td>0</td>\n",
       "      <td>0</td>\n",
       "      <td>0</td>\n",
       "      <td>0</td>\n",
       "      <td>0</td>\n",
       "      <td>1</td>\n",
       "      <td>0</td>\n",
       "      <td>0</td>\n",
       "      <td>0</td>\n",
       "      <td>0</td>\n",
       "    </tr>\n",
       "    <tr>\n",
       "      <th>4</th>\n",
       "      <td>0</td>\n",
       "      <td>0</td>\n",
       "      <td>1</td>\n",
       "      <td>0</td>\n",
       "      <td>0</td>\n",
       "      <td>1</td>\n",
       "      <td>0</td>\n",
       "      <td>0</td>\n",
       "      <td>0</td>\n",
       "      <td>0</td>\n",
       "      <td>...</td>\n",
       "      <td>0</td>\n",
       "      <td>0</td>\n",
       "      <td>0</td>\n",
       "      <td>0</td>\n",
       "      <td>0</td>\n",
       "      <td>1</td>\n",
       "      <td>0</td>\n",
       "      <td>0</td>\n",
       "      <td>0</td>\n",
       "      <td>0</td>\n",
       "    </tr>\n",
       "    <tr>\n",
       "      <th>5</th>\n",
       "      <td>0</td>\n",
       "      <td>1</td>\n",
       "      <td>0</td>\n",
       "      <td>0</td>\n",
       "      <td>0</td>\n",
       "      <td>1</td>\n",
       "      <td>0</td>\n",
       "      <td>0</td>\n",
       "      <td>0</td>\n",
       "      <td>0</td>\n",
       "      <td>...</td>\n",
       "      <td>0</td>\n",
       "      <td>0</td>\n",
       "      <td>0</td>\n",
       "      <td>0</td>\n",
       "      <td>0</td>\n",
       "      <td>1</td>\n",
       "      <td>0</td>\n",
       "      <td>0</td>\n",
       "      <td>0</td>\n",
       "      <td>0</td>\n",
       "    </tr>\n",
       "    <tr>\n",
       "      <th>6</th>\n",
       "      <td>0</td>\n",
       "      <td>0</td>\n",
       "      <td>0</td>\n",
       "      <td>1</td>\n",
       "      <td>0</td>\n",
       "      <td>0</td>\n",
       "      <td>0</td>\n",
       "      <td>1</td>\n",
       "      <td>0</td>\n",
       "      <td>1</td>\n",
       "      <td>...</td>\n",
       "      <td>0</td>\n",
       "      <td>0</td>\n",
       "      <td>0</td>\n",
       "      <td>0</td>\n",
       "      <td>0</td>\n",
       "      <td>1</td>\n",
       "      <td>0</td>\n",
       "      <td>0</td>\n",
       "      <td>0</td>\n",
       "      <td>0</td>\n",
       "    </tr>\n",
       "  </tbody>\n",
       "</table>\n",
       "<p>5 rows × 28 columns</p>\n",
       "</div>"
      ],
      "text/plain": [
       "   Delivery_Length_Full  Delivery_Length_Full_toss  \\\n",
       "2                     0                          0   \n",
       "3                     0                          0   \n",
       "4                     0                          0   \n",
       "5                     0                          1   \n",
       "6                     0                          0   \n",
       "\n",
       "   Delivery_Length_GoodLength  Delivery_Length_Short  Delivery_Length_Unknown  \\\n",
       "2                           0                      1                        0   \n",
       "3                           0                      1                        0   \n",
       "4                           1                      0                        0   \n",
       "5                           0                      0                        0   \n",
       "6                           0                      1                        0   \n",
       "\n",
       "   Delivery_Line_outside_stumps  Delivery_Line_Unknown  \\\n",
       "2                             1                      0   \n",
       "3                             0                      0   \n",
       "4                             1                      0   \n",
       "5                             1                      0   \n",
       "6                             0                      0   \n",
       "\n",
       "   Delivery_Line_wicket_to_wicket  Shot_Type_Cut  Shot_Type_Defensive_shot  \\\n",
       "2                               0              0                         1   \n",
       "3                               1              0                         0   \n",
       "4                               0              0                         0   \n",
       "5                               0              0                         0   \n",
       "6                               1              0                         1   \n",
       "\n",
       "                ...                 Shot_Type_Unknown  \\\n",
       "2               ...                                 0   \n",
       "3               ...                                 0   \n",
       "4               ...                                 0   \n",
       "5               ...                                 0   \n",
       "6               ...                                 0   \n",
       "\n",
       "   Bowler_Type_left arm chinaman  Bowler_Type_left arm fast medium  \\\n",
       "2                              0                                 0   \n",
       "3                              0                                 0   \n",
       "4                              0                                 0   \n",
       "5                              0                                 0   \n",
       "6                              0                                 0   \n",
       "\n",
       "   Bowler_Type_left arm medium  Bowler_Type_left arm orthodox  \\\n",
       "2                            0                              0   \n",
       "3                            0                              0   \n",
       "4                            0                              0   \n",
       "5                            0                              0   \n",
       "6                            0                              0   \n",
       "\n",
       "   Bowler_Type_right arm fast  Bowler_Type_right arm fast medium  \\\n",
       "2                           1                                  0   \n",
       "3                           1                                  0   \n",
       "4                           1                                  0   \n",
       "5                           1                                  0   \n",
       "6                           1                                  0   \n",
       "\n",
       "   Bowler_Type_right arm leg break  Bowler_Type_right arm medium  \\\n",
       "2                                0                             0   \n",
       "3                                0                             0   \n",
       "4                                0                             0   \n",
       "5                                0                             0   \n",
       "6                                0                             0   \n",
       "\n",
       "   Bowler_Type_right arm off break  \n",
       "2                                0  \n",
       "3                                0  \n",
       "4                                0  \n",
       "5                                0  \n",
       "6                                0  \n",
       "\n",
       "[5 rows x 28 columns]"
      ]
     },
     "execution_count": 71,
     "metadata": {},
     "output_type": "execute_result"
    }
   ],
   "source": [
    "# We create a DataFrame containing all features.\n",
    "x = tempdf[['Delivery_Length_Full','Delivery_Length_Full_toss','Delivery_Length_GoodLength','Delivery_Length_Short','Delivery_Length_Unknown','Delivery_Line_outside_stumps','Delivery_Line_Unknown','Delivery_Line_wicket_to_wicket','Shot_Type_Cut','Shot_Type_Defensive_shot','Shot_Type_Drive','Shot_Type_Edge','Shot_Type_Flick','Shot_Type_Glance','Shot_Type_Late_Cut','Shot_Type_No_shot','Shot_Type_Pull_hook','Shot_Type_Sweep','Shot_Type_Unknown','Bowler_Type_left arm chinaman','Bowler_Type_left arm fast medium','Bowler_Type_left arm medium','Bowler_Type_left arm orthodox','Bowler_Type_right arm fast','Bowler_Type_right arm fast medium','Bowler_Type_right arm leg break','Bowler_Type_right arm medium','Bowler_Type_right arm off break']]\n",
    "x.head()"
   ]
  },
  {
   "cell_type": "code",
   "execution_count": 72,
   "metadata": {},
   "outputs": [
    {
     "data": {
      "text/plain": [
       "2    norun\n",
       "3      run\n",
       "4      run\n",
       "5    norun\n",
       "6    norun\n",
       "Name: Run/NoRun, dtype: object"
      ]
     },
     "execution_count": 72,
     "metadata": {},
     "output_type": "execute_result"
    }
   ],
   "source": [
    "# Run/No run is our target variable\n",
    "y = df_Rohit['Run/NoRun']\n",
    "y.head()"
   ]
  },
  {
   "cell_type": "markdown",
   "metadata": {},
   "source": [
    "## Splitting the Data\n",
    "\n",
    "** We divide the data into target and label variables and stratify split these into a test and train set **"
   ]
  },
  {
   "cell_type": "code",
   "execution_count": 73,
   "metadata": {
    "collapsed": true
   },
   "outputs": [],
   "source": [
    "from sklearn.model_selection import train_test_split\n",
    "x_train,x_test,y_train,y_test = train_test_split(x,y,test_size=0.3,random_state=42,stratify=y)"
   ]
  },
  {
   "cell_type": "code",
   "execution_count": 74,
   "metadata": {},
   "outputs": [
    {
     "data": {
      "text/html": [
       "<div>\n",
       "<style scoped>\n",
       "    .dataframe tbody tr th:only-of-type {\n",
       "        vertical-align: middle;\n",
       "    }\n",
       "\n",
       "    .dataframe tbody tr th {\n",
       "        vertical-align: top;\n",
       "    }\n",
       "\n",
       "    .dataframe thead th {\n",
       "        text-align: right;\n",
       "    }\n",
       "</style>\n",
       "<table border=\"1\" class=\"dataframe\">\n",
       "  <thead>\n",
       "    <tr style=\"text-align: right;\">\n",
       "      <th></th>\n",
       "      <th>Delivery_Length_Full</th>\n",
       "      <th>Delivery_Length_Full_toss</th>\n",
       "      <th>Delivery_Length_GoodLength</th>\n",
       "      <th>Delivery_Length_Short</th>\n",
       "      <th>Delivery_Length_Unknown</th>\n",
       "      <th>Delivery_Line_outside_stumps</th>\n",
       "      <th>Delivery_Line_Unknown</th>\n",
       "      <th>Delivery_Line_wicket_to_wicket</th>\n",
       "      <th>Shot_Type_Cut</th>\n",
       "      <th>Shot_Type_Defensive_shot</th>\n",
       "      <th>...</th>\n",
       "      <th>Shot_Type_Unknown</th>\n",
       "      <th>Bowler_Type_left arm chinaman</th>\n",
       "      <th>Bowler_Type_left arm fast medium</th>\n",
       "      <th>Bowler_Type_left arm medium</th>\n",
       "      <th>Bowler_Type_left arm orthodox</th>\n",
       "      <th>Bowler_Type_right arm fast</th>\n",
       "      <th>Bowler_Type_right arm fast medium</th>\n",
       "      <th>Bowler_Type_right arm leg break</th>\n",
       "      <th>Bowler_Type_right arm medium</th>\n",
       "      <th>Bowler_Type_right arm off break</th>\n",
       "    </tr>\n",
       "  </thead>\n",
       "  <tbody>\n",
       "    <tr>\n",
       "      <th>87</th>\n",
       "      <td>1</td>\n",
       "      <td>0</td>\n",
       "      <td>0</td>\n",
       "      <td>0</td>\n",
       "      <td>0</td>\n",
       "      <td>0</td>\n",
       "      <td>0</td>\n",
       "      <td>1</td>\n",
       "      <td>0</td>\n",
       "      <td>0</td>\n",
       "      <td>...</td>\n",
       "      <td>0</td>\n",
       "      <td>0</td>\n",
       "      <td>0</td>\n",
       "      <td>0</td>\n",
       "      <td>0</td>\n",
       "      <td>0</td>\n",
       "      <td>0</td>\n",
       "      <td>0</td>\n",
       "      <td>0</td>\n",
       "      <td>1</td>\n",
       "    </tr>\n",
       "    <tr>\n",
       "      <th>23</th>\n",
       "      <td>0</td>\n",
       "      <td>0</td>\n",
       "      <td>1</td>\n",
       "      <td>0</td>\n",
       "      <td>0</td>\n",
       "      <td>1</td>\n",
       "      <td>0</td>\n",
       "      <td>0</td>\n",
       "      <td>0</td>\n",
       "      <td>0</td>\n",
       "      <td>...</td>\n",
       "      <td>0</td>\n",
       "      <td>0</td>\n",
       "      <td>0</td>\n",
       "      <td>0</td>\n",
       "      <td>0</td>\n",
       "      <td>0</td>\n",
       "      <td>0</td>\n",
       "      <td>1</td>\n",
       "      <td>0</td>\n",
       "      <td>0</td>\n",
       "    </tr>\n",
       "    <tr>\n",
       "      <th>3</th>\n",
       "      <td>0</td>\n",
       "      <td>0</td>\n",
       "      <td>1</td>\n",
       "      <td>0</td>\n",
       "      <td>0</td>\n",
       "      <td>1</td>\n",
       "      <td>0</td>\n",
       "      <td>0</td>\n",
       "      <td>0</td>\n",
       "      <td>0</td>\n",
       "      <td>...</td>\n",
       "      <td>0</td>\n",
       "      <td>0</td>\n",
       "      <td>0</td>\n",
       "      <td>0</td>\n",
       "      <td>0</td>\n",
       "      <td>0</td>\n",
       "      <td>0</td>\n",
       "      <td>0</td>\n",
       "      <td>1</td>\n",
       "      <td>0</td>\n",
       "    </tr>\n",
       "    <tr>\n",
       "      <th>96</th>\n",
       "      <td>0</td>\n",
       "      <td>0</td>\n",
       "      <td>1</td>\n",
       "      <td>0</td>\n",
       "      <td>0</td>\n",
       "      <td>1</td>\n",
       "      <td>0</td>\n",
       "      <td>0</td>\n",
       "      <td>0</td>\n",
       "      <td>0</td>\n",
       "      <td>...</td>\n",
       "      <td>0</td>\n",
       "      <td>0</td>\n",
       "      <td>0</td>\n",
       "      <td>0</td>\n",
       "      <td>0</td>\n",
       "      <td>0</td>\n",
       "      <td>0</td>\n",
       "      <td>0</td>\n",
       "      <td>0</td>\n",
       "      <td>1</td>\n",
       "    </tr>\n",
       "    <tr>\n",
       "      <th>10</th>\n",
       "      <td>1</td>\n",
       "      <td>0</td>\n",
       "      <td>0</td>\n",
       "      <td>0</td>\n",
       "      <td>0</td>\n",
       "      <td>1</td>\n",
       "      <td>0</td>\n",
       "      <td>0</td>\n",
       "      <td>0</td>\n",
       "      <td>1</td>\n",
       "      <td>...</td>\n",
       "      <td>0</td>\n",
       "      <td>0</td>\n",
       "      <td>0</td>\n",
       "      <td>0</td>\n",
       "      <td>0</td>\n",
       "      <td>0</td>\n",
       "      <td>1</td>\n",
       "      <td>0</td>\n",
       "      <td>0</td>\n",
       "      <td>0</td>\n",
       "    </tr>\n",
       "  </tbody>\n",
       "</table>\n",
       "<p>5 rows × 28 columns</p>\n",
       "</div>"
      ],
      "text/plain": [
       "    Delivery_Length_Full  Delivery_Length_Full_toss  \\\n",
       "87                     1                          0   \n",
       "23                     0                          0   \n",
       "3                      0                          0   \n",
       "96                     0                          0   \n",
       "10                     1                          0   \n",
       "\n",
       "    Delivery_Length_GoodLength  Delivery_Length_Short  \\\n",
       "87                           0                      0   \n",
       "23                           1                      0   \n",
       "3                            1                      0   \n",
       "96                           1                      0   \n",
       "10                           0                      0   \n",
       "\n",
       "    Delivery_Length_Unknown  Delivery_Line_outside_stumps  \\\n",
       "87                        0                             0   \n",
       "23                        0                             1   \n",
       "3                         0                             1   \n",
       "96                        0                             1   \n",
       "10                        0                             1   \n",
       "\n",
       "    Delivery_Line_Unknown  Delivery_Line_wicket_to_wicket  Shot_Type_Cut  \\\n",
       "87                      0                               1              0   \n",
       "23                      0                               0              0   \n",
       "3                       0                               0              0   \n",
       "96                      0                               0              0   \n",
       "10                      0                               0              0   \n",
       "\n",
       "    Shot_Type_Defensive_shot               ...                 \\\n",
       "87                         0               ...                  \n",
       "23                         0               ...                  \n",
       "3                          0               ...                  \n",
       "96                         0               ...                  \n",
       "10                         1               ...                  \n",
       "\n",
       "    Shot_Type_Unknown  Bowler_Type_left arm chinaman  \\\n",
       "87                  0                              0   \n",
       "23                  0                              0   \n",
       "3                   0                              0   \n",
       "96                  0                              0   \n",
       "10                  0                              0   \n",
       "\n",
       "    Bowler_Type_left arm fast medium  Bowler_Type_left arm medium  \\\n",
       "87                                 0                            0   \n",
       "23                                 0                            0   \n",
       "3                                  0                            0   \n",
       "96                                 0                            0   \n",
       "10                                 0                            0   \n",
       "\n",
       "    Bowler_Type_left arm orthodox  Bowler_Type_right arm fast  \\\n",
       "87                              0                           0   \n",
       "23                              0                           0   \n",
       "3                               0                           0   \n",
       "96                              0                           0   \n",
       "10                              0                           0   \n",
       "\n",
       "    Bowler_Type_right arm fast medium  Bowler_Type_right arm leg break  \\\n",
       "87                                  0                                0   \n",
       "23                                  0                                1   \n",
       "3                                   0                                0   \n",
       "96                                  0                                0   \n",
       "10                                  1                                0   \n",
       "\n",
       "    Bowler_Type_right arm medium  Bowler_Type_right arm off break  \n",
       "87                             0                                1  \n",
       "23                             0                                0  \n",
       "3                              1                                0  \n",
       "96                             0                                1  \n",
       "10                             0                                0  \n",
       "\n",
       "[5 rows x 28 columns]"
      ]
     },
     "execution_count": 74,
     "metadata": {},
     "output_type": "execute_result"
    }
   ],
   "source": [
    "x_train.head()"
   ]
  },
  {
   "cell_type": "code",
   "execution_count": 75,
   "metadata": {},
   "outputs": [
    {
     "data": {
      "text/plain": [
       "87    norun\n",
       "23      run\n",
       "3       run\n",
       "96    norun\n",
       "10    norun\n",
       "Name: Run/NoRun, dtype: object"
      ]
     },
     "execution_count": 75,
     "metadata": {},
     "output_type": "execute_result"
    }
   ],
   "source": [
    "y_train.head()"
   ]
  },
  {
   "cell_type": "markdown",
   "metadata": {},
   "source": [
    "## Decision Tree"
   ]
  },
  {
   "cell_type": "code",
   "execution_count": 76,
   "metadata": {},
   "outputs": [
    {
     "data": {
      "text/plain": [
       "DecisionTreeClassifier(class_weight=None, criterion='gini', max_depth=None,\n",
       "            max_features=None, max_leaf_nodes=None,\n",
       "            min_impurity_decrease=0.0, min_impurity_split=None,\n",
       "            min_samples_leaf=1, min_samples_split=2,\n",
       "            min_weight_fraction_leaf=0.0, presort=False, random_state=None,\n",
       "            splitter='best')"
      ]
     },
     "execution_count": 76,
     "metadata": {},
     "output_type": "execute_result"
    }
   ],
   "source": [
    "# Import Tree methods and fit the training set to our Decision Tree model\n",
    "from sklearn import tree\n",
    "tree_model = tree.DecisionTreeClassifier()\n",
    "tree_model.fit(x_train,y_train)"
   ]
  },
  {
   "cell_type": "markdown",
   "metadata": {},
   "source": [
    "** Model Prediction **"
   ]
  },
  {
   "cell_type": "code",
   "execution_count": 77,
   "metadata": {
    "collapsed": true
   },
   "outputs": [],
   "source": [
    "# Predict the target variable\n",
    "y_pred = tree_model.predict(x_test)"
   ]
  },
  {
   "cell_type": "markdown",
   "metadata": {},
   "source": [
    "** Model Evaluation **\n",
    "\n",
    "** Display Accuracy Score, Confusion Matrix and Classification Report for different parameters of Model Evaluation like Accuracy, Precision, f1-Score **"
   ]
  },
  {
   "cell_type": "code",
   "execution_count": 78,
   "metadata": {
    "collapsed": true
   },
   "outputs": [],
   "source": [
    "from sklearn.metrics import confusion_matrix,classification_report,accuracy_score"
   ]
  },
  {
   "cell_type": "code",
   "execution_count": 79,
   "metadata": {},
   "outputs": [
    {
     "name": "stdout",
     "output_type": "stream",
     "text": [
      "Accuracy Score: 0.674772036474\n",
      "\n",
      "\n",
      "Confusion Matrix:\n",
      "\n",
      "\n",
      "[[233 100]\n",
      " [114 211]]\n",
      "\n",
      "\n",
      "Classification Report:\n",
      "\n",
      "\n",
      "             precision    recall  f1-score   support\n",
      "\n",
      "      norun       0.67      0.70      0.69       333\n",
      "        run       0.68      0.65      0.66       325\n",
      "\n",
      "avg / total       0.67      0.67      0.67       658\n",
      "\n"
     ]
    }
   ],
   "source": [
    "print('Accuracy Score:',accuracy_score(y_test,y_pred))\n",
    "print('\\n')\n",
    "print('Confusion Matrix:')\n",
    "print('\\n')\n",
    "print(confusion_matrix(y_test,y_pred))\n",
    "print('\\n')\n",
    "print('Classification Report:')\n",
    "print('\\n')\n",
    "print(classification_report(y_test,y_pred))"
   ]
  },
  {
   "cell_type": "markdown",
   "metadata": {},
   "source": [
    "## Tuning our Model Hyperparameters\n",
    "\n",
    "** We employ RandomizedSearch to evaluate the best hyperparameters to tune our decision tree model **"
   ]
  },
  {
   "cell_type": "code",
   "execution_count": 80,
   "metadata": {
    "collapsed": true
   },
   "outputs": [],
   "source": [
    "from scipy.stats import randint\n",
    "from  sklearn.model_selection import RandomizedSearchCV"
   ]
  },
  {
   "cell_type": "markdown",
   "metadata": {},
   "source": [
    "** maximum depth parameter indicates the depth of the decision tree. Also called pruning of decsion tree, so that our model does not overfit the data. **\n",
    "\n",
    "** max features indicates the maximum number of features considered for splitting a node. **\n",
    "\n",
    "** min_sample_leaf indicates the minimum number of data points allowed in a leaf node. Increasing the parameter by a large extent can cause the model to underfit. **\n",
    "\n",
    "** gini and entropy (information gain) are two metrics for deciding how to split a tree **"
   ]
  },
  {
   "cell_type": "code",
   "execution_count": 81,
   "metadata": {
    "collapsed": true
   },
   "outputs": [],
   "source": [
    "# We create a dictionary of parameter options\n",
    "param_dist = {\"max_depth\": randint(1,40),\n",
    "              \"max_features\": randint(1, 5),\n",
    "              \"min_samples_leaf\": randint(1, 9),\n",
    "              \"criterion\": [\"gini\", \"entropy\"]}"
   ]
  },
  {
   "cell_type": "code",
   "execution_count": 82,
   "metadata": {},
   "outputs": [
    {
     "data": {
      "text/plain": [
       "RandomizedSearchCV(cv=5, error_score='raise',\n",
       "          estimator=DecisionTreeClassifier(class_weight=None, criterion='gini', max_depth=None,\n",
       "            max_features=None, max_leaf_nodes=None,\n",
       "            min_impurity_decrease=0.0, min_impurity_split=None,\n",
       "            min_samples_leaf=1, min_samples_split=2,\n",
       "            min_weight_fraction_leaf=0.0, presort=False, random_state=None,\n",
       "            splitter='best'),\n",
       "          fit_params=None, iid=True, n_iter=10, n_jobs=1,\n",
       "          param_distributions={'max_depth': <scipy.stats._distn_infrastructure.rv_frozen object at 0x1201ca1d0>, 'max_features': <scipy.stats._distn_infrastructure.rv_frozen object at 0x1201c9080>, 'min_samples_leaf': <scipy.stats._distn_infrastructure.rv_frozen object at 0x1201c9208>, 'criterion': ['gini', 'entropy']},\n",
       "          pre_dispatch='2*n_jobs', random_state=None, refit=True,\n",
       "          return_train_score='warn', scoring=None, verbose=0)"
      ]
     },
     "execution_count": 82,
     "metadata": {},
     "output_type": "execute_result"
    }
   ],
   "source": [
    "# We set the refit value to True. 10 iterations and 5 cross-validation\n",
    "Decision_Tree_tunning = RandomizedSearchCV(tree_model,param_distributions=param_dist,refit = True,n_iter = 10,cv=5) \n",
    "\n",
    "Decision_Tree_tunning.fit(x_train,y_train)"
   ]
  },
  {
   "cell_type": "code",
   "execution_count": 83,
   "metadata": {},
   "outputs": [
    {
     "name": "stdout",
     "output_type": "stream",
     "text": [
      "Tuned Decision Tree Parameters: {'criterion': 'gini', 'max_depth': 12, 'max_features': 3, 'min_samples_leaf': 3}\n"
     ]
    }
   ],
   "source": [
    "# Best hyperparameters from RandomizedSearch\n",
    "print(\"Tuned Decision Tree Parameters: {}\".format(Decision_Tree_tunning.best_params_))\n",
    "\n",
    "# Prediction using tuned Decision Tree\n",
    "y_pred_CV = Decision_Tree_tunning.predict(x_test)"
   ]
  },
  {
   "cell_type": "code",
   "execution_count": 84,
   "metadata": {},
   "outputs": [
    {
     "name": "stdout",
     "output_type": "stream",
     "text": [
      "Accuracy Score: 0.677811550152\n",
      "\n",
      "\n",
      "Confusion Matrix:\n",
      "\n",
      "\n",
      "[[188 145]\n",
      " [ 67 258]]\n",
      "\n",
      "\n",
      "Classification Report:\n",
      "\n",
      "\n",
      "             precision    recall  f1-score   support\n",
      "\n",
      "      norun       0.74      0.56      0.64       333\n",
      "        run       0.64      0.79      0.71       325\n",
      "\n",
      "avg / total       0.69      0.68      0.67       658\n",
      "\n"
     ]
    }
   ],
   "source": [
    "print('Accuracy Score:',accuracy_score(y_test,y_pred_CV))\n",
    "print('\\n')\n",
    "print('Confusion Matrix:')\n",
    "print('\\n')\n",
    "print(confusion_matrix(y_test,y_pred_CV))\n",
    "print('\\n')\n",
    "print('Classification Report:')\n",
    "print('\\n')\n",
    "print(classification_report(y_test,y_pred_CV))"
   ]
  },
  {
   "cell_type": "markdown",
   "metadata": {},
   "source": [
    "## Random Forest\n",
    "\n",
    "Random Forest is an ensemble of decision trees. They are trained via the bagging method."
   ]
  },
  {
   "cell_type": "code",
   "execution_count": 85,
   "metadata": {},
   "outputs": [
    {
     "data": {
      "text/plain": [
       "RandomForestClassifier(bootstrap=True, class_weight=None, criterion='gini',\n",
       "            max_depth=5, max_features='auto', max_leaf_nodes=None,\n",
       "            min_impurity_decrease=0.0, min_impurity_split=None,\n",
       "            min_samples_leaf=1, min_samples_split=2,\n",
       "            min_weight_fraction_leaf=0.0, n_estimators=10, n_jobs=1,\n",
       "            oob_score=False, random_state=42, verbose=0, warm_start=False)"
      ]
     },
     "execution_count": 85,
     "metadata": {},
     "output_type": "execute_result"
    }
   ],
   "source": [
    "from sklearn.ensemble import RandomForestClassifier\n",
    "rf_model=RandomForestClassifier(random_state=42,max_depth=5)\n",
    "rf_model.fit(x_train,y_train)"
   ]
  },
  {
   "cell_type": "code",
   "execution_count": 86,
   "metadata": {
    "collapsed": true
   },
   "outputs": [],
   "source": [
    "# Predict the target variable\n",
    "rf_pred=rf_model.predict(x_test)"
   ]
  },
  {
   "cell_type": "markdown",
   "metadata": {},
   "source": [
    "**Model Evaluation**"
   ]
  },
  {
   "cell_type": "code",
   "execution_count": 87,
   "metadata": {},
   "outputs": [
    {
     "name": "stdout",
     "output_type": "stream",
     "text": [
      "Accuracy Score: 0.700607902736\n",
      "\n",
      "\n",
      "Confusion Matrix:\n",
      "\n",
      "\n",
      "[[214 119]\n",
      " [ 78 247]]\n",
      "\n",
      "\n",
      "Classification Report:\n",
      "\n",
      "\n",
      "             precision    recall  f1-score   support\n",
      "\n",
      "      norun       0.73      0.64      0.68       333\n",
      "        run       0.67      0.76      0.71       325\n",
      "\n",
      "avg / total       0.70      0.70      0.70       658\n",
      "\n"
     ]
    }
   ],
   "source": [
    "print('Accuracy Score:',accuracy_score(y_test,rf_pred))\n",
    "print('\\n')\n",
    "print('Confusion Matrix:')\n",
    "print('\\n')\n",
    "print(confusion_matrix(y_test,rf_pred))\n",
    "print('\\n')\n",
    "print('Classification Report:')\n",
    "print('\\n')\n",
    "print(classification_report(y_test,rf_pred))"
   ]
  },
  {
   "cell_type": "markdown",
   "metadata": {},
   "source": [
    "** Random Forest proves to be a slightly better model in our case. **"
   ]
  },
  {
   "cell_type": "code",
   "execution_count": null,
   "metadata": {
    "collapsed": true
   },
   "outputs": [],
   "source": []
  },
  {
   "cell_type": "markdown",
   "metadata": {},
   "source": [
    "## Conclusion"
   ]
  },
  {
   "attachments": {},
   "cell_type": "markdown",
   "metadata": {},
   "source": [
    "• Our model classifies with fairly decent accuracy whether the batsman will be able to score runs or not based on different attributes like 'Delivery Length', 'Delivery Line', 'Type of Shot', 'Bowler Type' etc.\n",
    "\n",
    "• The suggested model does a good job at uncovering insights about the player’s game style. Such insights can be useful for the players to improve their game and for the opponents to devise strategies based on weaknesses."
   ]
  },
  {
   "cell_type": "markdown",
   "metadata": {},
   "source": [
    "The machine learning models employed for classification are two very powerful models in Random Forest and Decision Trees.\n",
    "On a similar note, I used these models to predict whether:\n",
    "    \n",
    "1) the batsman would be beaten or not.\n",
    "\n",
    "2) the batsman would hit a good/ bat shot (any shot where he scored more than 1 run was classified as a good shot).\n",
    "\n",
    "The codes for these are not displayed in the notebook due to repetition."
   ]
  },
  {
   "cell_type": "code",
   "execution_count": null,
   "metadata": {
    "collapsed": true
   },
   "outputs": [],
   "source": []
  },
  {
   "cell_type": "markdown",
   "metadata": {},
   "source": [
    "## Challenges and Future Scope"
   ]
  },
  {
   "cell_type": "markdown",
   "metadata": {},
   "source": [
    "The project was challenging and meant that our team hit significant roadblocks during the journey. Since most of the data was categorical and a lot of machine learning  models do not perform well with such data, a strategy to handle categorical variables proved to be critical. Moreover, extracting values from running commentary proved to be a tough task as speech can be ambiguous.\n"
   ]
  },
  {
   "cell_type": "markdown",
   "metadata": {},
   "source": [
    "Our model could be improved further by feeding it more data. Future advancements in technology ((optical imaging) could mean more sources of data to analyze and even more structure to the commentary style could make one’s job easier."
   ]
  },
  {
   "cell_type": "markdown",
   "metadata": {},
   "source": [
    "In the future, I plan on compiling a collection of all batsman statistics and integrating those into an interactive dashboard which in addition to visualizations shown above would also allow users to predict vital statistcs based on the outputs from our machine learning models."
   ]
  },
  {
   "cell_type": "markdown",
   "metadata": {},
   "source": [
    "# Thank You!"
   ]
  }
 ],
 "metadata": {
  "kernelspec": {
   "display_name": "Python 3",
   "language": "python",
   "name": "python3"
  },
  "language_info": {
   "codemirror_mode": {
    "name": "ipython",
    "version": 3
   },
   "file_extension": ".py",
   "mimetype": "text/x-python",
   "name": "python",
   "nbconvert_exporter": "python",
   "pygments_lexer": "ipython3",
   "version": "3.6.4"
  }
 },
 "nbformat": 4,
 "nbformat_minor": 2
}
